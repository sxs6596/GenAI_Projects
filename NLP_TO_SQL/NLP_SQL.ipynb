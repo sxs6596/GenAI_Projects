{
 "cells": [
  {
   "cell_type": "code",
   "execution_count": 39,
   "id": "62d96d2b",
   "metadata": {},
   "outputs": [],
   "source": [
    "import openai\n",
    "import os\n",
    "import pandas as pd \n",
    "os.environ[\"OPENAI_API_KEY\"] = \"\""
   ]
  },
  {
   "cell_type": "code",
   "execution_count": 40,
   "id": "63b314f6",
   "metadata": {},
   "outputs": [],
   "source": [
    "openai.api_key = os.getenv(\"OPENAI_API_KEY\")"
   ]
  },
  {
   "cell_type": "code",
   "execution_count": 70,
   "id": "12ef1ee7",
   "metadata": {},
   "outputs": [],
   "source": [
    "df = pd.read_csv('./sales_data_sample.csv')\n",
    "\n"
   ]
  },
  {
   "cell_type": "code",
   "execution_count": 58,
   "id": "782cd73e",
   "metadata": {},
   "outputs": [
    {
     "data": {
      "text/plain": [
       "'The capital of Andhra Pradesh state in India in 2024 is likely to still be Amaravati. However, it is important to note that political decisions and changes can impact the capital city, so it is always best to verify the current capital at the time of reference.'"
      ]
     },
     "execution_count": 58,
     "metadata": {},
     "output_type": "execute_result"
    }
   ],
   "source": [
    "\n",
    "\n",
    "# Create a completion using the ChatCompletion API\n",
    "response = openai.ChatCompletion.create(\n",
    "  model=\"gpt-3.5-turbo\",\n",
    "#   messages=[\n",
    "#     {\"role\": \"system\", \"content\": \"You are a poetic assistant, skilled in explaining complex programming concepts with creative flair.\"},\n",
    "#     {\"role\": \"user\", \"content\": \"Compose a poem that explains the concept of recursion in programming.\"},\n",
    "    \n",
    "#   ]\n",
    "  messages = [\n",
    "      {\n",
    "          \"role\":\"user\", \"content\" : \"what is capital of the andhra pradesh state in india in 2024\"\n",
    "      }\n",
    "  ], \n",
    "  max_tokens = 60,\n",
    "  temperature = 0.1\n",
    ")\n",
    "\n",
    "# Print the completion\n",
    "response.choices[0].message['content']\n",
    "# print(completion.choices[0].message['content'])\n"
   ]
  },
  {
   "cell_type": "code",
   "execution_count": 61,
   "id": "da275f77",
   "metadata": {},
   "outputs": [],
   "source": [
    "import sqlalchemy\n",
    "from sqlalchemy import create_engine \n",
    "from sqlalchemy import text "
   ]
  },
  {
   "cell_type": "code",
   "execution_count": 62,
   "id": "12112f2e",
   "metadata": {},
   "outputs": [],
   "source": [
    "# create the temp database in the ram \n",
    "# push the dataframe into the temp database \n",
    "\n",
    "# sql query on the temp db \n",
    "\n",
    "\n",
    "temp_db = create_engine('sqlite:///:memory', echo=True)"
   ]
  },
  {
   "cell_type": "code",
   "execution_count": 64,
   "id": "932a4bbf",
   "metadata": {},
   "outputs": [
    {
     "name": "stdout",
     "output_type": "stream",
     "text": [
      "2024-05-28 16:16:44,038 INFO sqlalchemy.engine.Engine BEGIN (implicit)\n",
      "2024-05-28 16:16:44,039 INFO sqlalchemy.engine.Engine PRAGMA main.table_info(\"Sales\")\n",
      "2024-05-28 16:16:44,040 INFO sqlalchemy.engine.Engine [raw sql] ()\n",
      "2024-05-28 16:16:44,043 INFO sqlalchemy.engine.Engine PRAGMA temp.table_info(\"Sales\")\n",
      "2024-05-28 16:16:44,043 INFO sqlalchemy.engine.Engine [raw sql] ()\n",
      "2024-05-28 16:16:44,044 INFO sqlalchemy.engine.Engine ROLLBACK\n",
      "2024-05-28 16:16:44,045 INFO sqlalchemy.engine.Engine BEGIN (implicit)\n",
      "2024-05-28 16:16:44,046 INFO sqlalchemy.engine.Engine \n",
      "CREATE TABLE \"Sales\" (\n",
      "\t\"index\" BIGINT, \n",
      "\t\"ORDERNUMBER\" BIGINT, \n",
      "\t\"QUANTITYORDERED\" BIGINT, \n",
      "\t\"PRICEEACH\" FLOAT, \n",
      "\t\"ORDERLINENUMBER\" BIGINT, \n",
      "\t\"SALES\" FLOAT, \n",
      "\t\"ORDERDATE\" TEXT, \n",
      "\t\"STATUS\" TEXT, \n",
      "\t\"QTR_ID\" BIGINT, \n",
      "\t\"MONTH_ID\" BIGINT, \n",
      "\t\"YEAR_ID\" BIGINT, \n",
      "\t\"PRODUCTLINE\" TEXT, \n",
      "\t\"MSRP\" BIGINT, \n",
      "\t\"PRODUCTCODE\" TEXT, \n",
      "\t\"CUSTOMERNAME\" TEXT, \n",
      "\t\"PHONE\" TEXT, \n",
      "\t\"ADDRESSLINE1\" TEXT, \n",
      "\t\"ADDRESSLINE2\" TEXT, \n",
      "\t\"CITY\" TEXT, \n",
      "\t\"STATE\" TEXT, \n",
      "\t\"POSTALCODE\" TEXT, \n",
      "\t\"COUNTRY\" TEXT, \n",
      "\t\"TERRITORY\" TEXT, \n",
      "\t\"CONTACTLASTNAME\" TEXT, \n",
      "\t\"CONTACTFIRSTNAME\" TEXT, \n",
      "\t\"DEALSIZE\" TEXT\n",
      ")\n",
      "\n",
      "\n",
      "2024-05-28 16:16:44,047 INFO sqlalchemy.engine.Engine [no key 0.00071s] ()\n",
      "2024-05-28 16:16:44,050 INFO sqlalchemy.engine.Engine CREATE INDEX \"ix_Sales_index\" ON \"Sales\" (\"index\")\n",
      "2024-05-28 16:16:44,050 INFO sqlalchemy.engine.Engine [no key 0.00078s] ()\n",
      "2024-05-28 16:16:44,052 INFO sqlalchemy.engine.Engine COMMIT\n",
      "2024-05-28 16:16:44,060 INFO sqlalchemy.engine.Engine BEGIN (implicit)\n",
      "2024-05-28 16:16:44,101 INFO sqlalchemy.engine.Engine INSERT INTO \"Sales\" (\"index\", \"ORDERNUMBER\", \"QUANTITYORDERED\", \"PRICEEACH\", \"ORDERLINENUMBER\", \"SALES\", \"ORDERDATE\", \"STATUS\", \"QTR_ID\", \"MONTH_ID\", \"YEAR_ID\", \"PRODUCTLINE\", \"MSRP\", \"PRODUCTCODE\", \"CUSTOMERNAME\", \"PHONE\", \"ADDRESSLINE1\", \"ADDRESSLINE2\", \"CITY\", \"STATE\", \"POSTALCODE\", \"COUNTRY\", \"TERRITORY\", \"CONTACTLASTNAME\", \"CONTACTFIRSTNAME\", \"DEALSIZE\") VALUES (?, ?, ?, ?, ?, ?, ?, ?, ?, ?, ?, ?, ?, ?, ?, ?, ?, ?, ?, ?, ?, ?, ?, ?, ?, ?)\n",
      "2024-05-28 16:16:44,102 INFO sqlalchemy.engine.Engine [generated in 0.03263s] [(0, 10107, 30, 95.7, 2, 2871.0, '2/24/2003 0:00', 'Shipped', 1, 2, 2003, 'Motorcycles', 95, 'S10_1678', 'Land of Toys Inc.', '2125557818', '897 Long Airport Avenue', None, 'NYC', 'NY', '10022', 'USA', None, 'Yu', 'Kwai', 'Small'), (1, 10121, 34, 81.35, 5, 2765.9, '5/7/2003 0:00', 'Shipped', 2, 5, 2003, 'Motorcycles', 95, 'S10_1678', 'Reims Collectables', '26.47.1555', \"59 rue de l'Abbaye\", None, 'Reims', None, '51100', 'France', 'EMEA', 'Henriot', 'Paul', 'Small'), (2, 10134, 41, 94.74, 2, 3884.34, '7/1/2003 0:00', 'Shipped', 3, 7, 2003, 'Motorcycles', 95, 'S10_1678', 'Lyon Souveniers', '+33 1 46 62 7555', '27 rue du Colonel Pierre Avia', None, 'Paris', None, '75508', 'France', 'EMEA', 'Da Cunha', 'Daniel', 'Medium'), (3, 10145, 45, 83.26, 6, 3746.7, '8/25/2003 0:00', 'Shipped', 3, 8, 2003, 'Motorcycles', 95, 'S10_1678', 'Toys4GrownUps.com', '6265557265', '78934 Hillside Dr.', None, 'Pasadena', 'CA', '90003', 'USA', None, 'Young', 'Julie', 'Medium'), (4, 10159, 49, 100.0, 14, 5205.27, '10/10/2003 0:00', 'Shipped', 4, 10, 2003, 'Motorcycles', 95, 'S10_1678', 'Corporate Gift Ideas Co.', '6505551386', '7734 Strong St.', None, 'San Francisco', 'CA', None, 'USA', None, 'Brown', 'Julie', 'Medium'), (5, 10168, 36, 96.66, 1, 3479.76, '10/28/2003 0:00', 'Shipped', 4, 10, 2003, 'Motorcycles', 95, 'S10_1678', 'Technics Stores Inc.', '6505556809', '9408 Furth Circle', None, 'Burlingame', 'CA', '94217', 'USA', None, 'Hirano', 'Juri', 'Medium'), (6, 10180, 29, 86.13, 9, 2497.77, '11/11/2003 0:00', 'Shipped', 4, 11, 2003, 'Motorcycles', 95, 'S10_1678', 'Daedalus Designs Imports', '20.16.1555', '184, chausse de Tournai', None, 'Lille', None, '59000', 'France', 'EMEA', 'Rance', 'Martine', 'Small'), (7, 10188, 48, 100.0, 1, 5512.32, '11/18/2003 0:00', 'Shipped', 4, 11, 2003, 'Motorcycles', 95, 'S10_1678', 'Herkku Gifts', '+47 2267 3215', 'Drammen 121, PR 744 Sentrum', None, 'Bergen', None, 'N 5804', 'Norway', 'EMEA', 'Oeztan', 'Veysel', 'Medium')  ... displaying 10 of 2823 total bound parameter sets ...  (2821, 10397, 34, 62.24, 1, 2116.16, '3/28/2005 0:00', 'Shipped', 1, 3, 2005, 'Ships', 54, 'S72_3212', 'Alpha Cognac', '61.77.6555', '1 rue Alsace-Lorraine', None, 'Toulouse', None, '31000', 'France', 'EMEA', 'Roulet', 'Annette', 'Small'), (2822, 10414, 47, 65.52, 9, 3079.44, '5/6/2005 0:00', 'On Hold', 2, 5, 2005, 'Ships', 54, 'S72_3212', 'Gifts4AllAges.com', '6175559555', '8616 Spinnaker Dr.', None, 'Boston', 'MA', '51003', 'USA', None, 'Yoshido', 'Juri', 'Medium')]\n",
      "2024-05-28 16:16:44,114 INFO sqlalchemy.engine.Engine COMMIT\n",
      "2024-05-28 16:16:44,117 INFO sqlalchemy.engine.Engine BEGIN (implicit)\n",
      "2024-05-28 16:16:44,118 INFO sqlalchemy.engine.Engine SELECT name FROM sqlite_master WHERE type='table' AND name NOT LIKE 'sqlite~_%' ESCAPE '~' ORDER BY name\n",
      "2024-05-28 16:16:44,118 INFO sqlalchemy.engine.Engine [raw sql] ()\n",
      "2024-05-28 16:16:44,120 INFO sqlalchemy.engine.Engine ROLLBACK\n"
     ]
    }
   ],
   "source": [
    "# it creates a table sales in the database \n",
    "data = df.to_sql(name='Sales', con=temp_db)"
   ]
  },
  {
   "cell_type": "code",
   "execution_count": 67,
   "id": "7c6641c3",
   "metadata": {},
   "outputs": [
    {
     "name": "stdout",
     "output_type": "stream",
     "text": [
      "2024-05-28 16:19:49,217 INFO sqlalchemy.engine.Engine BEGIN (implicit)\n",
      "2024-05-28 16:19:49,221 INFO sqlalchemy.engine.Engine select sum(sales) from Sales\n",
      "2024-05-28 16:19:49,222 INFO sqlalchemy.engine.Engine [generated in 0.00460s] ()\n",
      "2024-05-28 16:19:49,224 INFO sqlalchemy.engine.Engine ROLLBACK\n"
     ]
    }
   ],
   "source": [
    "with temp_db.connect() as conn : \n",
    "    # makes the connection \n",
    "    # here we can run the sql connection \n",
    "    result = conn.execute(text(\"select sum(sales) from Sales\"))\n",
    "    #auto close the connection "
   ]
  },
  {
   "cell_type": "code",
   "execution_count": 68,
   "id": "6f6ad3a2",
   "metadata": {},
   "outputs": [
    {
     "data": {
      "text/plain": [
       "[(10032628.85000001,)]"
      ]
     },
     "execution_count": 68,
     "metadata": {},
     "output_type": "execute_result"
    }
   ],
   "source": [
    "result.all()"
   ]
  },
  {
   "cell_type": "code",
   "execution_count": 80,
   "id": "c620ea7e",
   "metadata": {},
   "outputs": [
    {
     "name": "stdout",
     "output_type": "stream",
     "text": [
      "### sqlite sql table, with its properties\n",
      "    #\n",
      "    # Sales(ORDERNUMBER,QUANTITYORDERED,PRICEEACH,ORDERLINENUMBER,SALES,ORDERDATE,STATUS,QTR_ID,MONTH_ID,YEAR_ID,PRODUCTLINE,MSRP,PRODUCTCODE,CUSTOMERNAME,PHONE,ADDRESSLINE1,ADDRESSLINE2,CITY,STATE,POSTALCODE,COUNTRY,TERRITORY,CONTACTLASTNAME,CONTACTFIRSTNAME,DEALSIZE)\n",
      "    #\n",
      "    \n",
      "    \n"
     ]
    }
   ],
   "source": [
    "# function to create the prompt structure.\n",
    "\n",
    "def create_table_definition(df):\n",
    "    prompt = \"\"\"### sqlite sql table, with its properties\n",
    "    #\n",
    "    # Sales({})\n",
    "    #\n",
    "    \n",
    "    \"\"\".format(\",\".join(str(col) for col in df.columns))\n",
    "    return prompt \n",
    "\n",
    "print(create_table_definition(df))"
   ]
  },
  {
   "cell_type": "code",
   "execution_count": 81,
   "id": "6a578eee",
   "metadata": {},
   "outputs": [],
   "source": [
    "def prompt_input():\n",
    "    nlp_text = input('enter the info you want :')\n",
    "    return nlp_text"
   ]
  },
  {
   "cell_type": "code",
   "execution_count": 82,
   "id": "6292ee45",
   "metadata": {},
   "outputs": [],
   "source": [
    "def combine_prompts(df, query_prompt):\n",
    "    definition = create_table_definition(df)\n",
    "    query_init_string = f\"### A query to answer :{query_prompt}\\nSELECT\"\n",
    "    return definition + query_init_string"
   ]
  },
  {
   "cell_type": "code",
   "execution_count": 85,
   "id": "bbeb7f1e",
   "metadata": {},
   "outputs": [
    {
     "name": "stdout",
     "output_type": "stream",
     "text": [
      "enter the info you want :can you sum up the sales per each quarter\n"
     ]
    },
    {
     "data": {
      "text/plain": [
       "'### sqlite sql table, with its properties\\n    #\\n    # Sales(ORDERNUMBER,QUANTITYORDERED,PRICEEACH,ORDERLINENUMBER,SALES,ORDERDATE,STATUS,QTR_ID,MONTH_ID,YEAR_ID,PRODUCTLINE,MSRP,PRODUCTCODE,CUSTOMERNAME,PHONE,ADDRESSLINE1,ADDRESSLINE2,CITY,STATE,POSTALCODE,COUNTRY,TERRITORY,CONTACTLASTNAME,CONTACTFIRSTNAME,DEALSIZE)\\n    #\\n    \\n    ### A query to answer :can you sum up the sales per each quarter\\nSELECT'"
      ]
     },
     "execution_count": 85,
     "metadata": {},
     "output_type": "execute_result"
    }
   ],
   "source": [
    "nlp_text = prompt_input() \n",
    "\n",
    "prompt = combine_prompts(df, nlp_text)\n",
    "\n",
    "prompt"
   ]
  },
  {
   "cell_type": "code",
   "execution_count": 104,
   "id": "cc2b2d5a",
   "metadata": {},
   "outputs": [],
   "source": [
    "response = openai.ChatCompletion.create(\n",
    "    model=\"gpt-3.5-turbo\",\n",
    "    messages=[\n",
    "        {\"role\": \"system\", \"content\": \"You are a helpful assistant.\"},\n",
    "        {\"role\": \"user\", \"content\": prompt},\n",
    "    ],\n",
    "    max_tokens=100,\n",
    "    temperature=0.5\n",
    ")\n",
    "\n",
    "# print(response.choices[0].message['content'].strip())\n",
    "response_content = response.choices[0].message['content'].strip()\n",
    "def extract_sql_query(response_content):\n",
    "    start_marker = \"```sql\"\n",
    "    end_marker = \"```\"\n",
    "    \n",
    "    start_index = response_content.find(start_marker)\n",
    "    if start_index != -1:\n",
    "        start_index += len(start_marker)\n",
    "        end_index = response_content.find(end_marker, start_index)\n",
    "        if end_index != -1:\n",
    "            return response_content[start_index:end_index].strip()\n",
    "    return response_content\n",
    "\n",
    "\n",
    "final_query = extract_sql_query(response_content)"
   ]
  },
  {
   "cell_type": "code",
   "execution_count": 109,
   "id": "22ebe2d8",
   "metadata": {},
   "outputs": [
    {
     "name": "stdout",
     "output_type": "stream",
     "text": [
      "2024-05-28 17:14:30,103 INFO sqlalchemy.engine.Engine BEGIN (implicit)\n",
      "2024-05-28 17:14:30,105 INFO sqlalchemy.engine.Engine SELECT QTR_ID, SUM(SALES) AS TOTAL_SALES\n",
      "FROM Sales\n",
      "GROUP BY QTR_ID;\n",
      "2024-05-28 17:14:30,106 INFO sqlalchemy.engine.Engine [cached since 46.13s ago] ()\n",
      "2024-05-28 17:14:30,108 INFO sqlalchemy.engine.Engine ROLLBACK\n"
     ]
    }
   ],
   "source": [
    "with temp_db.connect() as conn : \n",
    "    # makes the connection \n",
    "    # here we can run the sql connection \n",
    "    result = conn.execute(text(final_query))\n",
    "    #auto close the connection \n",
    "    \n",
    "    \n"
   ]
  },
  {
   "cell_type": "code",
   "execution_count": 110,
   "id": "eb1f5af3",
   "metadata": {},
   "outputs": [
    {
     "data": {
      "text/plain": [
       "[(1, 2350817.7300000004),\n",
       " (2, 2048120.2999999986),\n",
       " (3, 1758910.8099999994),\n",
       " (4, 3874780.01)]"
      ]
     },
     "execution_count": 110,
     "metadata": {},
     "output_type": "execute_result"
    }
   ],
   "source": [
    "result.all()"
   ]
  }
 ],
 "metadata": {
  "kernelspec": {
   "display_name": "Python 3 (ipykernel)",
   "language": "python",
   "name": "python3"
  },
  "language_info": {
   "codemirror_mode": {
    "name": "ipython",
    "version": 3
   },
   "file_extension": ".py",
   "mimetype": "text/x-python",
   "name": "python",
   "nbconvert_exporter": "python",
   "pygments_lexer": "ipython3",
   "version": "3.9.12"
  }
 },
 "nbformat": 4,
 "nbformat_minor": 5
}
